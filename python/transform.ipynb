{
 "cells": [
  {
   "cell_type": "code",
   "execution_count": 834,
   "metadata": {},
   "outputs": [],
   "source": [
    "import pandas as pd\n",
    "from loguru import logger"
   ]
  },
  {
   "cell_type": "code",
   "execution_count": 835,
   "metadata": {},
   "outputs": [],
   "source": [
    "logger.remove()\n",
    "_=logger.add('transform.log',\n",
    "            format=\"{time:YYYY-MM-DD at HH:mm:ss} {level} --- {message}\",\n",
    "            retention='1 minute', \n",
    "            level='DEBUG'\n",
    ")\n"
   ]
  },
  {
   "cell_type": "code",
   "execution_count": 836,
   "metadata": {},
   "outputs": [],
   "source": [
    "crash_file_csv='/Users/joe/Desktop/ETL Pipelines/data/transformation_data/traffic_crashes.csv'\n",
    "vehicle_crash_csv='/Users/joe/Desktop/ETL Pipelines/data/transformation_data/traffic_crash_vehicle.csv'\n"
   ]
  },
  {
   "cell_type": "code",
   "execution_count": 837,
   "metadata": {},
   "outputs": [],
   "source": [
    "df_crashes=pd.read_csv(crash_file_csv)\n",
    "df_vehicles=pd.read_csv(vehicle_crash_csv)\n"
   ]
  },
  {
   "cell_type": "code",
   "execution_count": 838,
   "metadata": {},
   "outputs": [],
   "source": [
    "#Grouped simple pipeline\n",
    "def transformed_data(crash_file,vehicle_crash_file):\n",
    "    try:\n",
    "        #load data\n",
    "        df_crashes=pd.read_csv(crash_file)\n",
    "        df_vehicles=pd.read_csv(vehicle_crash_file)\n",
    "\n",
    "        #cleaning data\n",
    "        threshold_removed=df_crashes.dropna(axis='index',thresh=2,inplace=False)\n",
    "        #removed row\n",
    "        threshold_row=df_crashes[~df_crashes.index.isin(threshold_removed.index)]\n",
    "        df_crashes.fillna(value={'report_type': 'ON SCENE'}, inplace=True)\n",
    "        # merge crashes and vehicles\n",
    "        df = df_crashes.merge(df_vehicles, how='left', on='crash_record_id', suffixes=('_left','_right')) \n",
    "        df_agg = df.groupby('vehicle_type').agg({'crash_record_id': 'count'}).reset_index() \n",
    "    \n",
    "        # transform column names for output data\n",
    "        vehicle_mapping = {'vehicle_type':'vehicletypes'}  \n",
    "        df_agg = df_agg.rename(columns=vehicle_mapping)\n",
    "\n",
    "\n",
    "    except Exception as e:\n",
    "        print(f\"An error occurred: {e}\")\n",
    "        df_agg=pd.DataFrame()\n",
    "        \n",
    "    return df_agg         \n",
    "           "
   ]
  },
  {
   "cell_type": "code",
   "execution_count": 839,
   "metadata": {},
   "outputs": [
    {
     "data": {
      "text/html": [
       "<div>\n",
       "<style scoped>\n",
       "    .dataframe tbody tr th:only-of-type {\n",
       "        vertical-align: middle;\n",
       "    }\n",
       "\n",
       "    .dataframe tbody tr th {\n",
       "        vertical-align: top;\n",
       "    }\n",
       "\n",
       "    .dataframe thead th {\n",
       "        text-align: right;\n",
       "    }\n",
       "</style>\n",
       "<table border=\"1\" class=\"dataframe\">\n",
       "  <thead>\n",
       "    <tr style=\"text-align: right;\">\n",
       "      <th></th>\n",
       "      <th>vehicletypes</th>\n",
       "      <th>crash_record_id</th>\n",
       "    </tr>\n",
       "  </thead>\n",
       "  <tbody>\n",
       "    <tr>\n",
       "      <th>0</th>\n",
       "      <td>BUS OVER 15 PASS.</td>\n",
       "      <td>5</td>\n",
       "    </tr>\n",
       "    <tr>\n",
       "      <th>1</th>\n",
       "      <td>MOPED OR MOTORIZED BICYCLE</td>\n",
       "      <td>1</td>\n",
       "    </tr>\n",
       "    <tr>\n",
       "      <th>2</th>\n",
       "      <td>OTHER</td>\n",
       "      <td>20</td>\n",
       "    </tr>\n",
       "    <tr>\n",
       "      <th>3</th>\n",
       "      <td>OTHER VEHICLE WITH TRAILER</td>\n",
       "      <td>1</td>\n",
       "    </tr>\n",
       "    <tr>\n",
       "      <th>4</th>\n",
       "      <td>PASSENGER</td>\n",
       "      <td>633</td>\n",
       "    </tr>\n",
       "    <tr>\n",
       "      <th>5</th>\n",
       "      <td>PICKUP</td>\n",
       "      <td>33</td>\n",
       "    </tr>\n",
       "    <tr>\n",
       "      <th>6</th>\n",
       "      <td>SINGLE UNIT TRUCK WITH TRAILER</td>\n",
       "      <td>2</td>\n",
       "    </tr>\n",
       "    <tr>\n",
       "      <th>7</th>\n",
       "      <td>SPORT UTILITY VEHICLE (SUV)</td>\n",
       "      <td>138</td>\n",
       "    </tr>\n",
       "    <tr>\n",
       "      <th>8</th>\n",
       "      <td>TRACTOR W/ SEMI-TRAILER</td>\n",
       "      <td>5</td>\n",
       "    </tr>\n",
       "    <tr>\n",
       "      <th>9</th>\n",
       "      <td>TRACTOR W/O SEMI-TRAILER</td>\n",
       "      <td>2</td>\n",
       "    </tr>\n",
       "    <tr>\n",
       "      <th>10</th>\n",
       "      <td>TRUCK - SINGLE UNIT</td>\n",
       "      <td>14</td>\n",
       "    </tr>\n",
       "    <tr>\n",
       "      <th>11</th>\n",
       "      <td>UNKNOWN/NA</td>\n",
       "      <td>89</td>\n",
       "    </tr>\n",
       "    <tr>\n",
       "      <th>12</th>\n",
       "      <td>VAN/MINI-VAN</td>\n",
       "      <td>38</td>\n",
       "    </tr>\n",
       "  </tbody>\n",
       "</table>\n",
       "</div>"
      ],
      "text/plain": [
       "                      vehicletypes  crash_record_id\n",
       "0                BUS OVER 15 PASS.                5\n",
       "1       MOPED OR MOTORIZED BICYCLE                1\n",
       "2                            OTHER               20\n",
       "3       OTHER VEHICLE WITH TRAILER                1\n",
       "4                        PASSENGER              633\n",
       "5                           PICKUP               33\n",
       "6   SINGLE UNIT TRUCK WITH TRAILER                2\n",
       "7      SPORT UTILITY VEHICLE (SUV)              138\n",
       "8          TRACTOR W/ SEMI-TRAILER                5\n",
       "9         TRACTOR W/O SEMI-TRAILER                2\n",
       "10             TRUCK - SINGLE UNIT               14\n",
       "11                      UNKNOWN/NA               89\n",
       "12                    VAN/MINI-VAN               38"
      ]
     },
     "execution_count": 839,
     "metadata": {},
     "output_type": "execute_result"
    }
   ],
   "source": [
    "df_agg_result=transformed_data(crash_file_csv,vehicle_crash_csv)\n",
    "df_agg_result"
   ]
  },
  {
   "cell_type": "markdown",
   "metadata": {},
   "source": [
    "Splitting the function to individual easier to manipulate functions"
   ]
  },
  {
   "cell_type": "code",
   "execution_count": 840,
   "metadata": {},
   "outputs": [],
   "source": [
    "\n",
    "#loading data\n",
    "def loading_data(crash_data):\n",
    "     df=pd.read_csv(crash_data)\n",
    "     return df"
   ]
  },
  {
   "cell_type": "code",
   "execution_count": 841,
   "metadata": {},
   "outputs": [],
   "source": [
    "#removing rows with null values\n",
    "def cleaned_data(df):\n",
    "    df=df.dropna(axis='index',thresh=2,inplace=False)\n",
    "    return df\n"
   ]
  },
  {
   "cell_type": "code",
   "execution_count": 842,
   "metadata": {},
   "outputs": [],
   "source": [
    "#fill missing values\n",
    "def filling_values(df):\n",
    "    df=df.fillna(value={'report_type': 'ON SCENE'})\n",
    "    return df"
   ]
  },
  {
   "cell_type": "code",
   "execution_count": 843,
   "metadata": {},
   "outputs": [],
   "source": [
    "#merging crashes and vehicle_crashes\n",
    "def merging_tables(df_crashes,df_vehicles):\n",
    "    df = df_crashes.merge(df_vehicles, how='left', on='crash_record_id', suffixes=('_left','_right')) \n",
    "    df = df.groupby('vehicle_type').agg({'crash_record_id': 'count'}).reset_index() \n",
    "    return df"
   ]
  },
  {
   "cell_type": "code",
   "execution_count": 844,
   "metadata": {},
   "outputs": [],
   "source": [
    "#mapping columns\n",
    "def mapped_column(df):\n",
    "    vehicle_mapping = {'vehicle_type':'vehicletypes'}  \n",
    "    df= df.rename(columns=vehicle_mapping)\n",
    "    return df"
   ]
  },
  {
   "cell_type": "markdown",
   "metadata": {},
   "source": [
    "Pipeline Start"
   ]
  },
  {
   "cell_type": "code",
   "execution_count": 845,
   "metadata": {},
   "outputs": [],
   "source": [
    "#load data\n",
    "def data_pipeline(crash_file,vehicle_crash_file):\n",
    "    df_crash=pd.DataFrame()\n",
    "    df_vehicle=pd.DataFrame()\n",
    "    try:\n",
    "        df_crash=loading_data(crash_file)\n",
    "        df_vehicle=loading_data(vehicle_crash_file)\n",
    "    except Exception as e:\n",
    "        logger.info(f'Exception in reading data file:{e}')\n",
    "    finally:\n",
    "        return df_crash,df_vehicle   "
   ]
  },
  {
   "cell_type": "code",
   "execution_count": 846,
   "metadata": {},
   "outputs": [],
   "source": [
    "#pipeline removing null values\n",
    "def nonnull_data_pipeline(df_crash,df_vehicle):\n",
    "    try:\n",
    "        df_crash=cleaned_data(df_crash)\n",
    "        df_vehicle=cleaned_data(df_vehicle)\n",
    "\n",
    "    except Exception as e:\n",
    "        logger.info(f'Exception in nonnull cleaning{e}')    \n",
    "    finally:\n",
    "        return df_crash,df_vehicle"
   ]
  },
  {
   "cell_type": "code",
   "execution_count": 847,
   "metadata": {},
   "outputs": [],
   "source": [
    "#pipeline to fill data\n",
    "def fill_data_pipeline(df_crash,df_vehicle):\n",
    "    \n",
    "    try:\n",
    "        df_crash=filling_values(df_crash)\n",
    "        df_vehicle=filling_values(df_vehicle)\n",
    "    except Exception as e:\n",
    "        logger.info(f'Exception in loading data{e}')\n",
    "    finally:\n",
    "        return df_crash,df_vehicle  \n",
    "      "
   ]
  },
  {
   "cell_type": "code",
   "execution_count": 848,
   "metadata": {},
   "outputs": [],
   "source": [
    "#merging pipeline\n",
    "def merge_pipeline(df_crash,df_vehicle):\n",
    "    try:\n",
    "        df_merged=merging_tables(df_crash,df_vehicle)\n",
    "    except Exception as e:\n",
    "        logger.info('Exception in merging tables{e}') \n",
    "    finally:\n",
    "        return df_merged       "
   ]
  },
  {
   "cell_type": "code",
   "execution_count": 849,
   "metadata": {},
   "outputs": [],
   "source": [
    "#mapping pipeline\n",
    "def mapped_pipeline(df_merged):\n",
    "    try:\n",
    "        df_results=mapped_column(df_merged)\n",
    "    except Exception as e:\n",
    "        logger.info(f'Exception in mapping data columns{e}') \n",
    "    finally:\n",
    "        return df_results   "
   ]
  },
  {
   "cell_type": "markdown",
   "metadata": {},
   "source": [
    "THE DATA "
   ]
  },
  {
   "cell_type": "code",
   "execution_count": 850,
   "metadata": {},
   "outputs": [
    {
     "data": {
      "text/html": [
       "<div>\n",
       "<style scoped>\n",
       "    .dataframe tbody tr th:only-of-type {\n",
       "        vertical-align: middle;\n",
       "    }\n",
       "\n",
       "    .dataframe tbody tr th {\n",
       "        vertical-align: top;\n",
       "    }\n",
       "\n",
       "    .dataframe thead th {\n",
       "        text-align: right;\n",
       "    }\n",
       "</style>\n",
       "<table border=\"1\" class=\"dataframe\">\n",
       "  <thead>\n",
       "    <tr style=\"text-align: right;\">\n",
       "      <th></th>\n",
       "      <th>vehicletypes</th>\n",
       "      <th>crash_record_id</th>\n",
       "    </tr>\n",
       "  </thead>\n",
       "  <tbody>\n",
       "    <tr>\n",
       "      <th>0</th>\n",
       "      <td>BUS OVER 15 PASS.</td>\n",
       "      <td>5</td>\n",
       "    </tr>\n",
       "    <tr>\n",
       "      <th>1</th>\n",
       "      <td>MOPED OR MOTORIZED BICYCLE</td>\n",
       "      <td>1</td>\n",
       "    </tr>\n",
       "    <tr>\n",
       "      <th>2</th>\n",
       "      <td>OTHER</td>\n",
       "      <td>20</td>\n",
       "    </tr>\n",
       "    <tr>\n",
       "      <th>3</th>\n",
       "      <td>OTHER VEHICLE WITH TRAILER</td>\n",
       "      <td>1</td>\n",
       "    </tr>\n",
       "    <tr>\n",
       "      <th>4</th>\n",
       "      <td>PASSENGER</td>\n",
       "      <td>633</td>\n",
       "    </tr>\n",
       "    <tr>\n",
       "      <th>5</th>\n",
       "      <td>PICKUP</td>\n",
       "      <td>33</td>\n",
       "    </tr>\n",
       "    <tr>\n",
       "      <th>6</th>\n",
       "      <td>SINGLE UNIT TRUCK WITH TRAILER</td>\n",
       "      <td>2</td>\n",
       "    </tr>\n",
       "    <tr>\n",
       "      <th>7</th>\n",
       "      <td>SPORT UTILITY VEHICLE (SUV)</td>\n",
       "      <td>138</td>\n",
       "    </tr>\n",
       "    <tr>\n",
       "      <th>8</th>\n",
       "      <td>TRACTOR W/ SEMI-TRAILER</td>\n",
       "      <td>5</td>\n",
       "    </tr>\n",
       "    <tr>\n",
       "      <th>9</th>\n",
       "      <td>TRACTOR W/O SEMI-TRAILER</td>\n",
       "      <td>2</td>\n",
       "    </tr>\n",
       "    <tr>\n",
       "      <th>10</th>\n",
       "      <td>TRUCK - SINGLE UNIT</td>\n",
       "      <td>14</td>\n",
       "    </tr>\n",
       "    <tr>\n",
       "      <th>11</th>\n",
       "      <td>UNKNOWN/NA</td>\n",
       "      <td>89</td>\n",
       "    </tr>\n",
       "    <tr>\n",
       "      <th>12</th>\n",
       "      <td>VAN/MINI-VAN</td>\n",
       "      <td>38</td>\n",
       "    </tr>\n",
       "  </tbody>\n",
       "</table>\n",
       "</div>"
      ],
      "text/plain": [
       "                      vehicletypes  crash_record_id\n",
       "0                BUS OVER 15 PASS.                5\n",
       "1       MOPED OR MOTORIZED BICYCLE                1\n",
       "2                            OTHER               20\n",
       "3       OTHER VEHICLE WITH TRAILER                1\n",
       "4                        PASSENGER              633\n",
       "5                           PICKUP               33\n",
       "6   SINGLE UNIT TRUCK WITH TRAILER                2\n",
       "7      SPORT UTILITY VEHICLE (SUV)              138\n",
       "8          TRACTOR W/ SEMI-TRAILER                5\n",
       "9         TRACTOR W/O SEMI-TRAILER                2\n",
       "10             TRUCK - SINGLE UNIT               14\n",
       "11                      UNKNOWN/NA               89\n",
       "12                    VAN/MINI-VAN               38"
      ]
     },
     "execution_count": 850,
     "metadata": {},
     "output_type": "execute_result"
    }
   ],
   "source": [
    "#input data\n",
    "crash_file_csv='/Users/joe/Desktop/ETL Pipelines/data/transformation_data/traffic_crashes.csv'\n",
    "vehicle_crash_csv='/Users/joe/Desktop/ETL Pipelines/data/transformation_data/traffic_crash_vehicle.csv'\n",
    "\n",
    "#load data\n",
    "df_crash,df_vehicle=data_pipeline(crash_file_csv,vehicle_crash_csv)\n",
    "\n",
    "\n",
    "#nonnull cleaning\n",
    "df_crash,df_vehicle=nonnull_data_pipeline(df_crash,df_vehicle)\n",
    "\n",
    "\n",
    "#fillin \n",
    "df_crash=fill_data_pipeline(df_crash)\n",
    "\n",
    "\n",
    "\n",
    "#merge data\n",
    "df_merged=merge_pipeline(df_crash,df_vehicle)\n",
    "\n",
    "#mapping columns\n",
    "df_result=mapped_pipeline(df_merged)\n",
    "\n",
    "df_result\n",
    "\n",
    "\n"
   ]
  },
  {
   "cell_type": "code",
   "execution_count": null,
   "metadata": {},
   "outputs": [],
   "source": []
  }
 ],
 "metadata": {
  "kernelspec": {
   "display_name": "ETL_Pipelines",
   "language": "python",
   "name": "python3"
  },
  "language_info": {
   "codemirror_mode": {
    "name": "ipython",
    "version": 3
   },
   "file_extension": ".py",
   "mimetype": "text/x-python",
   "name": "python",
   "nbconvert_exporter": "python",
   "pygments_lexer": "ipython3",
   "version": "3.11.9"
  }
 },
 "nbformat": 4,
 "nbformat_minor": 2
}
